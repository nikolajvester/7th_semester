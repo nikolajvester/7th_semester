{
  "cells": [
    {
      "cell_type": "markdown",
      "metadata": {
        "id": "view-in-github",
        "colab_type": "text"
      },
      "source": [
        "<a href=\"https://colab.research.google.com/github/nikolajvester/7th_semester/blob/main/Group/Assignment_3/NHN_SBERT_Netflix_Recommender.ipynb\" target=\"_parent\"><img src=\"https://colab.research.google.com/assets/colab-badge.svg\" alt=\"Open In Colab\"/></a>"
      ]
    },
    {
      "cell_type": "markdown",
      "metadata": {
        "id": "9JFBSwhPlulR"
      },
      "source": [
        "# Imports"
      ]
    },
    {
      "cell_type": "code",
      "execution_count": null,
      "metadata": {
        "id": "obJMbhcollPD"
      },
      "outputs": [],
      "source": [
        "# Pip installs\n",
        "!pip install sentence-transformers -q\n",
        "!pip install gradio -q"
      ]
    },
    {
      "cell_type": "code",
      "execution_count": null,
      "metadata": {
        "id": "a97SndYwlm7e"
      },
      "outputs": [],
      "source": [
        "# Imports\n",
        "import pandas as pd\n",
        "import numpy as np\n",
        "from sentence_transformers import SentenceTransformer, util\n",
        "import torch\n",
        "from sentence_transformers.util import cos_sim\n",
        "\n",
        "model = SentenceTransformer('bert-base-nli-mean-tokens')"
      ]
    },
    {
      "cell_type": "code",
      "execution_count": null,
      "metadata": {
        "id": "xmmQC9kDlos0"
      },
      "outputs": [],
      "source": [
        "# Importing the dataset\n",
        "df_netflix = pd.read_csv('https://raw.githubusercontent.com/Korsholm22/M4_Group_Assignments/main/Group_Assignment_3/Data/netflix_titles.csv')"
      ]
    },
    {
      "cell_type": "code",
      "execution_count": null,
      "metadata": {
        "colab": {
          "base_uri": "https://localhost:8080/",
          "height": 418
        },
        "id": "t9k0f2rml6ka",
        "outputId": "baaf7388-6628-4228-fd1b-ab1c8cea359a"
      },
      "outputs": [
        {
          "output_type": "execute_result",
          "data": {
            "text/plain": [
              "  show_id     type                  title         director  \\\n",
              "0      s1    Movie   Dick Johnson Is Dead  Kirsten Johnson   \n",
              "1      s2  TV Show          Blood & Water              NaN   \n",
              "2      s3  TV Show              Ganglands  Julien Leclercq   \n",
              "3      s4  TV Show  Jailbirds New Orleans              NaN   \n",
              "4      s5  TV Show           Kota Factory              NaN   \n",
              "\n",
              "                                                cast        country  \\\n",
              "0                                                NaN  United States   \n",
              "1  Ama Qamata, Khosi Ngema, Gail Mabalane, Thaban...   South Africa   \n",
              "2  Sami Bouajila, Tracy Gotoas, Samuel Jouy, Nabi...            NaN   \n",
              "3                                                NaN            NaN   \n",
              "4  Mayur More, Jitendra Kumar, Ranjan Raj, Alam K...          India   \n",
              "\n",
              "           date_added  release_year rating   duration  \\\n",
              "0  September 25, 2021          2020  PG-13     90 min   \n",
              "1  September 24, 2021          2021  TV-MA  2 Seasons   \n",
              "2  September 24, 2021          2021  TV-MA   1 Season   \n",
              "3  September 24, 2021          2021  TV-MA   1 Season   \n",
              "4  September 24, 2021          2021  TV-MA  2 Seasons   \n",
              "\n",
              "                                           listed_in  \\\n",
              "0                                      Documentaries   \n",
              "1    International TV Shows, TV Dramas, TV Mysteries   \n",
              "2  Crime TV Shows, International TV Shows, TV Act...   \n",
              "3                             Docuseries, Reality TV   \n",
              "4  International TV Shows, Romantic TV Shows, TV ...   \n",
              "\n",
              "                                         description  \n",
              "0  As her father nears the end of his life, filmm...  \n",
              "1  After crossing paths at a party, a Cape Town t...  \n",
              "2  To protect his family from a powerful drug lor...  \n",
              "3  Feuds, flirtations and toilet talk go down amo...  \n",
              "4  In a city of coaching centers known to train I...  "
            ],
            "text/html": [
              "\n",
              "  <div id=\"df-dc11dbd3-98f3-4be1-a3be-0f23fc1ba2bb\">\n",
              "    <div class=\"colab-df-container\">\n",
              "      <div>\n",
              "<style scoped>\n",
              "    .dataframe tbody tr th:only-of-type {\n",
              "        vertical-align: middle;\n",
              "    }\n",
              "\n",
              "    .dataframe tbody tr th {\n",
              "        vertical-align: top;\n",
              "    }\n",
              "\n",
              "    .dataframe thead th {\n",
              "        text-align: right;\n",
              "    }\n",
              "</style>\n",
              "<table border=\"1\" class=\"dataframe\">\n",
              "  <thead>\n",
              "    <tr style=\"text-align: right;\">\n",
              "      <th></th>\n",
              "      <th>show_id</th>\n",
              "      <th>type</th>\n",
              "      <th>title</th>\n",
              "      <th>director</th>\n",
              "      <th>cast</th>\n",
              "      <th>country</th>\n",
              "      <th>date_added</th>\n",
              "      <th>release_year</th>\n",
              "      <th>rating</th>\n",
              "      <th>duration</th>\n",
              "      <th>listed_in</th>\n",
              "      <th>description</th>\n",
              "    </tr>\n",
              "  </thead>\n",
              "  <tbody>\n",
              "    <tr>\n",
              "      <th>0</th>\n",
              "      <td>s1</td>\n",
              "      <td>Movie</td>\n",
              "      <td>Dick Johnson Is Dead</td>\n",
              "      <td>Kirsten Johnson</td>\n",
              "      <td>NaN</td>\n",
              "      <td>United States</td>\n",
              "      <td>September 25, 2021</td>\n",
              "      <td>2020</td>\n",
              "      <td>PG-13</td>\n",
              "      <td>90 min</td>\n",
              "      <td>Documentaries</td>\n",
              "      <td>As her father nears the end of his life, filmm...</td>\n",
              "    </tr>\n",
              "    <tr>\n",
              "      <th>1</th>\n",
              "      <td>s2</td>\n",
              "      <td>TV Show</td>\n",
              "      <td>Blood &amp; Water</td>\n",
              "      <td>NaN</td>\n",
              "      <td>Ama Qamata, Khosi Ngema, Gail Mabalane, Thaban...</td>\n",
              "      <td>South Africa</td>\n",
              "      <td>September 24, 2021</td>\n",
              "      <td>2021</td>\n",
              "      <td>TV-MA</td>\n",
              "      <td>2 Seasons</td>\n",
              "      <td>International TV Shows, TV Dramas, TV Mysteries</td>\n",
              "      <td>After crossing paths at a party, a Cape Town t...</td>\n",
              "    </tr>\n",
              "    <tr>\n",
              "      <th>2</th>\n",
              "      <td>s3</td>\n",
              "      <td>TV Show</td>\n",
              "      <td>Ganglands</td>\n",
              "      <td>Julien Leclercq</td>\n",
              "      <td>Sami Bouajila, Tracy Gotoas, Samuel Jouy, Nabi...</td>\n",
              "      <td>NaN</td>\n",
              "      <td>September 24, 2021</td>\n",
              "      <td>2021</td>\n",
              "      <td>TV-MA</td>\n",
              "      <td>1 Season</td>\n",
              "      <td>Crime TV Shows, International TV Shows, TV Act...</td>\n",
              "      <td>To protect his family from a powerful drug lor...</td>\n",
              "    </tr>\n",
              "    <tr>\n",
              "      <th>3</th>\n",
              "      <td>s4</td>\n",
              "      <td>TV Show</td>\n",
              "      <td>Jailbirds New Orleans</td>\n",
              "      <td>NaN</td>\n",
              "      <td>NaN</td>\n",
              "      <td>NaN</td>\n",
              "      <td>September 24, 2021</td>\n",
              "      <td>2021</td>\n",
              "      <td>TV-MA</td>\n",
              "      <td>1 Season</td>\n",
              "      <td>Docuseries, Reality TV</td>\n",
              "      <td>Feuds, flirtations and toilet talk go down amo...</td>\n",
              "    </tr>\n",
              "    <tr>\n",
              "      <th>4</th>\n",
              "      <td>s5</td>\n",
              "      <td>TV Show</td>\n",
              "      <td>Kota Factory</td>\n",
              "      <td>NaN</td>\n",
              "      <td>Mayur More, Jitendra Kumar, Ranjan Raj, Alam K...</td>\n",
              "      <td>India</td>\n",
              "      <td>September 24, 2021</td>\n",
              "      <td>2021</td>\n",
              "      <td>TV-MA</td>\n",
              "      <td>2 Seasons</td>\n",
              "      <td>International TV Shows, Romantic TV Shows, TV ...</td>\n",
              "      <td>In a city of coaching centers known to train I...</td>\n",
              "    </tr>\n",
              "  </tbody>\n",
              "</table>\n",
              "</div>\n",
              "      <button class=\"colab-df-convert\" onclick=\"convertToInteractive('df-dc11dbd3-98f3-4be1-a3be-0f23fc1ba2bb')\"\n",
              "              title=\"Convert this dataframe to an interactive table.\"\n",
              "              style=\"display:none;\">\n",
              "        \n",
              "  <svg xmlns=\"http://www.w3.org/2000/svg\" height=\"24px\"viewBox=\"0 0 24 24\"\n",
              "       width=\"24px\">\n",
              "    <path d=\"M0 0h24v24H0V0z\" fill=\"none\"/>\n",
              "    <path d=\"M18.56 5.44l.94 2.06.94-2.06 2.06-.94-2.06-.94-.94-2.06-.94 2.06-2.06.94zm-11 1L8.5 8.5l.94-2.06 2.06-.94-2.06-.94L8.5 2.5l-.94 2.06-2.06.94zm10 10l.94 2.06.94-2.06 2.06-.94-2.06-.94-.94-2.06-.94 2.06-2.06.94z\"/><path d=\"M17.41 7.96l-1.37-1.37c-.4-.4-.92-.59-1.43-.59-.52 0-1.04.2-1.43.59L10.3 9.45l-7.72 7.72c-.78.78-.78 2.05 0 2.83L4 21.41c.39.39.9.59 1.41.59.51 0 1.02-.2 1.41-.59l7.78-7.78 2.81-2.81c.8-.78.8-2.07 0-2.86zM5.41 20L4 18.59l7.72-7.72 1.47 1.35L5.41 20z\"/>\n",
              "  </svg>\n",
              "      </button>\n",
              "      \n",
              "  <style>\n",
              "    .colab-df-container {\n",
              "      display:flex;\n",
              "      flex-wrap:wrap;\n",
              "      gap: 12px;\n",
              "    }\n",
              "\n",
              "    .colab-df-convert {\n",
              "      background-color: #E8F0FE;\n",
              "      border: none;\n",
              "      border-radius: 50%;\n",
              "      cursor: pointer;\n",
              "      display: none;\n",
              "      fill: #1967D2;\n",
              "      height: 32px;\n",
              "      padding: 0 0 0 0;\n",
              "      width: 32px;\n",
              "    }\n",
              "\n",
              "    .colab-df-convert:hover {\n",
              "      background-color: #E2EBFA;\n",
              "      box-shadow: 0px 1px 2px rgba(60, 64, 67, 0.3), 0px 1px 3px 1px rgba(60, 64, 67, 0.15);\n",
              "      fill: #174EA6;\n",
              "    }\n",
              "\n",
              "    [theme=dark] .colab-df-convert {\n",
              "      background-color: #3B4455;\n",
              "      fill: #D2E3FC;\n",
              "    }\n",
              "\n",
              "    [theme=dark] .colab-df-convert:hover {\n",
              "      background-color: #434B5C;\n",
              "      box-shadow: 0px 1px 3px 1px rgba(0, 0, 0, 0.15);\n",
              "      filter: drop-shadow(0px 1px 2px rgba(0, 0, 0, 0.3));\n",
              "      fill: #FFFFFF;\n",
              "    }\n",
              "  </style>\n",
              "\n",
              "      <script>\n",
              "        const buttonEl =\n",
              "          document.querySelector('#df-dc11dbd3-98f3-4be1-a3be-0f23fc1ba2bb button.colab-df-convert');\n",
              "        buttonEl.style.display =\n",
              "          google.colab.kernel.accessAllowed ? 'block' : 'none';\n",
              "\n",
              "        async function convertToInteractive(key) {\n",
              "          const element = document.querySelector('#df-dc11dbd3-98f3-4be1-a3be-0f23fc1ba2bb');\n",
              "          const dataTable =\n",
              "            await google.colab.kernel.invokeFunction('convertToInteractive',\n",
              "                                                     [key], {});\n",
              "          if (!dataTable) return;\n",
              "\n",
              "          const docLinkHtml = 'Like what you see? Visit the ' +\n",
              "            '<a target=\"_blank\" href=https://colab.research.google.com/notebooks/data_table.ipynb>data table notebook</a>'\n",
              "            + ' to learn more about interactive tables.';\n",
              "          element.innerHTML = '';\n",
              "          dataTable['output_type'] = 'display_data';\n",
              "          await google.colab.output.renderOutput(dataTable, element);\n",
              "          const docLink = document.createElement('div');\n",
              "          docLink.innerHTML = docLinkHtml;\n",
              "          element.appendChild(docLink);\n",
              "        }\n",
              "      </script>\n",
              "    </div>\n",
              "  </div>\n",
              "  "
            ]
          },
          "metadata": {},
          "execution_count": 4
        }
      ],
      "source": [
        "# Examining the dataset\n",
        "df_netflix.head()"
      ]
    },
    {
      "cell_type": "markdown",
      "source": [
        "# Preprocessing and Feature Engineering"
      ],
      "metadata": {
        "id": "_nf1Nns85vyM"
      }
    },
    {
      "cell_type": "code",
      "source": [
        "# To be deleted - just to reduce runtime on corpus_embedding for test purposes\n",
        "df_netflix = df_netflix.iloc[:100]"
      ],
      "metadata": {
        "id": "iwE5iZFfE4Qq"
      },
      "execution_count": null,
      "outputs": []
    },
    {
      "cell_type": "code",
      "source": [
        "# Checking the dataset for NaN values\n",
        "df_netflix.isna().sum()"
      ],
      "metadata": {
        "colab": {
          "base_uri": "https://localhost:8080/"
        },
        "id": "FpIvzQUS7xyp",
        "outputId": "84b849ff-1dcd-4e26-bb15-17190586457d"
      },
      "execution_count": null,
      "outputs": [
        {
          "output_type": "execute_result",
          "data": {
            "text/plain": [
              "show_id          0\n",
              "type             0\n",
              "title            0\n",
              "director        38\n",
              "cast            11\n",
              "country         40\n",
              "date_added       0\n",
              "release_year     0\n",
              "rating           0\n",
              "duration         0\n",
              "listed_in        0\n",
              "description      0\n",
              "dtype: int64"
            ]
          },
          "metadata": {},
          "execution_count": 6
        }
      ]
    },
    {
      "cell_type": "code",
      "source": [
        "# Dropping NaN values based on columns we are interested in for modeling\n",
        "df_netflix = df_netflix[df_netflix['cast'].notna()]"
      ],
      "metadata": {
        "id": "OsznFajp7dNt"
      },
      "execution_count": null,
      "outputs": []
    },
    {
      "cell_type": "code",
      "source": [
        "# Merging type, title, cast, listed_in and description into one column to include more information in the semantic search\n",
        "df_netflix['information'] = df_netflix['listed_in'].str.cat(df_netflix['description'], sep =\". \")\n",
        "df_netflix['information'] = df_netflix['title'].str.cat(df_netflix['information'], sep =\". \")\n",
        "\n",
        "# Checking if the merge is succesfull\n",
        "df_netflix['information'][1]"
      ],
      "metadata": {
        "colab": {
          "base_uri": "https://localhost:8080/",
          "height": 54
        },
        "id": "oIyplkIj3V1s",
        "outputId": "6b142570-3f0d-4e85-a3a8-3d6f25b9b17a"
      },
      "execution_count": null,
      "outputs": [
        {
          "output_type": "execute_result",
          "data": {
            "text/plain": [
              "'Blood & Water. International TV Shows, TV Dramas, TV Mysteries. After crossing paths at a party, a Cape Town teen sets out to prove whether a private-school swimming star is her sister who was abducted at birth.'"
            ],
            "application/vnd.google.colaboratory.intrinsic+json": {
              "type": "string"
            }
          },
          "metadata": {},
          "execution_count": 20
        }
      ]
    },
    {
      "cell_type": "code",
      "execution_count": null,
      "metadata": {
        "id": "M1ylpsEkt6SW"
      },
      "outputs": [],
      "source": [
        "# Creating 5 search examples to examine if the model seems to work\n",
        "search_examples = [\"Action movie taking place in space\",\n",
        "                    \"Sad movie where the dog dies\",  \n",
        "                    \"Documentray about turtles and plastic straws\",       \n",
        "                    \"Funny movie with Kevin Hart and the Rock\",    \n",
        "                    \"True crime tv show where the detective turns out to be the villain\"]"
      ]
    },
    {
      "cell_type": "code",
      "execution_count": null,
      "metadata": {
        "colab": {
          "base_uri": "https://localhost:8080/"
        },
        "id": "EfESvKYWuQGm",
        "outputId": "ffaa5d81-5c04-4df1-b02e-ec89e7a4c514"
      },
      "outputs": [
        {
          "output_type": "execute_result",
          "data": {
            "text/plain": [
              "(5, 768)"
            ]
          },
          "metadata": {},
          "execution_count": 22
        }
      ],
      "source": [
        "# Embedding the search examples\n",
        "embeddings = model.encode(search_examples)\n",
        "\n",
        "embeddings.shape"
      ]
    },
    {
      "cell_type": "code",
      "execution_count": null,
      "metadata": {
        "id": "Qhi9EQoXuVgM"
      },
      "outputs": [],
      "source": [
        "# Converting the information to a list\n",
        "show_information = df_netflix['information'].values.tolist()"
      ]
    },
    {
      "cell_type": "code",
      "execution_count": null,
      "metadata": {
        "colab": {
          "base_uri": "https://localhost:8080/"
        },
        "id": "5N1QkFfquiRU",
        "outputId": "3234bfd0-3005-4b4b-f2ca-c05e49aa893b"
      },
      "outputs": [
        {
          "output_type": "execute_result",
          "data": {
            "text/plain": [
              "['Blood & Water. International TV Shows, TV Dramas, TV Mysteries. After crossing paths at a party, a Cape Town teen sets out to prove whether a private-school swimming star is her sister who was abducted at birth.',\n",
              " 'Ganglands. Crime TV Shows, International TV Shows, TV Action & Adventure. To protect his family from a powerful drug lord, skilled thief Mehdi and his expert team of robbers are pulled into a violent and deadly turf war.',\n",
              " 'Kota Factory. International TV Shows, Romantic TV Shows, TV Comedies. In a city of coaching centers known to train India’s finest collegiate minds, an earnest but unexceptional student and his friends navigate campus life.',\n",
              " 'Midnight Mass. TV Dramas, TV Horror, TV Mysteries. The arrival of a charismatic young priest brings glorious miracles, ominous mysteries and renewed religious fervor to a dying town desperate to believe.',\n",
              " \"My Little Pony: A New Generation. Children & Family Movies. Equestria's divided. But a bright-eyed hero believes Earth Ponies, Pegasi and Unicorns should be pals — and, hoof to heart, she’s determined to prove it.\"]"
            ]
          },
          "metadata": {},
          "execution_count": 24
        }
      ],
      "source": [
        "# Checking that the conversion is succesfull\n",
        "show_information[0:5]"
      ]
    },
    {
      "cell_type": "code",
      "execution_count": null,
      "metadata": {
        "id": "0d3JG-6tweLy"
      },
      "outputs": [],
      "source": [
        "# Embedding the show information and converting it into tensors\n",
        "corpus_embeddings = model.encode(show_information, convert_to_tensor=True)"
      ]
    },
    {
      "cell_type": "code",
      "execution_count": null,
      "metadata": {
        "colab": {
          "base_uri": "https://localhost:8080/"
        },
        "id": "7eqT4cwAujTT",
        "outputId": "dcaa2cb5-463c-47be-9c09-15b08ee69e66"
      },
      "outputs": [
        {
          "output_type": "stream",
          "name": "stdout",
          "text": [
            "\n",
            "\n",
            "======================\n",
            "\n",
            "\n",
            "Query: Action movie taking place in space\n",
            "\n",
            "Top 5 most similar sentences in corpus:\n",
            "A StoryBots Space Adventure. Children & Family Movies. Join the StoryBots and the space travelers of the historic Inspiration4 mission as they search for answers to kids' questions about space. (Score: 0.5906)\n",
            "Into the Night. International TV Shows, TV Dramas, TV Mysteries. Passengers and crew aboard a hijacked overnight flight scramble to outrace the sun as a mysterious cosmic event wreaks havoc on the world below. (Score: 0.5875)\n",
            "Naruto the Movie 3: Guardians of the Crescent Moon Kingdom. Action & Adventure, Anime Features, International Movies. Exuberant ninja Naruto teams up with his pals Sakura and Kakashi to escort Prince Michiru and his son, Hikaru, to the Crescent Moon kingdom. (Score: 0.4073)\n",
            "Dark Skies. Horror Movies, Sci-Fi & Fantasy. A family’s idyllic suburban life shatters when an alien force invades their home, and as they struggle to convince others of the deadly threat. (Score: 0.3994)\n",
            "Naruto Shippûden the Movie: Bonds. Action & Adventure, Anime Features, International Movies. When strange ninjas ambush the village of Konohagakure, it's up to adolescent ninja Naruto and his long-missing pal, Sasuke, to save the planet. (Score: 0.3848)\n",
            "\n",
            "\n",
            "======================\n",
            "\n",
            "\n",
            "Query: Sad movie where the dog dies\n",
            "\n",
            "Top 5 most similar sentences in corpus:\n",
            "Blood Brothers: Malcolm X & Muhammad Ali. Documentaries, Sports Movies. From a chance meeting to a tragic fallout, Malcolm X and Muhammad Ali's extraordinary bond cracks under the weight of distrust and shifting ideals. (Score: 0.6385)\n",
            "Avvai Shanmughi. Comedies, International Movies. Newly divorced and denied visitation rights with his daughter, a doting father disguises himself as a gray-haired nanny in order to spend time with her. (Score: 0.5773)\n",
            "Dark Skies. Horror Movies, Sci-Fi & Fantasy. A family’s idyllic suburban life shatters when an alien force invades their home, and as they struggle to convince others of the deadly threat. (Score: 0.5596)\n",
            "Chicago Party Aunt. TV Comedies. Chicago Party Aunt Diane is an idolized troublemaker with a talent for avoiding adulthood — and a soft spot for her soul-searching nephew. (Score: 0.5444)\n",
            "InuYasha the Movie: Affections Touching Across Time. Action & Adventure, Anime Features, International Movies. A powerful demon has been sealed away for 200 years. But when the demon's son is awakened, the fate of the world is in jeopardy. (Score: 0.5361)\n",
            "\n",
            "\n",
            "======================\n",
            "\n",
            "\n",
            "Query: Documentray about turtles and plastic straws\n",
            "\n",
            "Top 5 most similar sentences in corpus:\n",
            "Jaws: The Revenge. Action & Adventure, Horror Movies, Thrillers. After another deadly shark attack, Ellen Brody has had enough of Amity Island and moves to the Caribbean – but a great white shark follows her there. (Score: 0.3885)\n",
            "Jaws 3. Action & Adventure, Horror Movies, Thrillers. After the staff of a marine theme park try to capture a young great white shark, they discover its mother has invaded the enclosure and is out for blood. (Score: 0.3666)\n",
            "Jaws. Action & Adventure, Classic Movies, Dramas. When an insatiable great white shark terrorizes Amity Island, a police chief, an oceanographer and a grizzled shark hunter seek to destroy the beast. (Score: 0.3275)\n",
            "Naruto Shippûden the Movie: Bonds. Action & Adventure, Anime Features, International Movies. When strange ninjas ambush the village of Konohagakure, it's up to adolescent ninja Naruto and his long-missing pal, Sasuke, to save the planet. (Score: 0.3255)\n",
            "Naruto Shippuden the Movie: Blood Prison. Action & Adventure, Anime Features, International Movies. Mistakenly accused of an attack on the Fourth Raikage, ninja Naruto is imprisoned in the impenetrable Hozuki Castle and his powers are sealed. (Score: 0.3243)\n",
            "\n",
            "\n",
            "======================\n",
            "\n",
            "\n",
            "Query: Funny movie with Kevin Hart and the Rock\n",
            "\n",
            "Top 5 most similar sentences in corpus:\n",
            "Saved by the Bell. Kids' TV, TV Comedies. From middle school to college, best friends Zack, Kelly, Slater, Jessie, Screech and Lisa take on the highs and lows of life together in this hit series. (Score: 0.5189)\n",
            "JJ+E. Dramas, International Movies, Romantic Movies. Elisabeth and John-John live in the same city, but they inhabit different worlds. Can a passionate first love break through class and cultural barriers? (Score: 0.5020)\n",
            "Blood Brothers: Malcolm X & Muhammad Ali. Documentaries, Sports Movies. From a chance meeting to a tragic fallout, Malcolm X and Muhammad Ali's extraordinary bond cracks under the weight of distrust and shifting ideals. (Score: 0.5010)\n",
            "Tughlaq Durbar. Comedies, Dramas, International Movies. A budding politician has devious plans to rise in the ranks — until an unexpected new presence begins to interfere with his every crooked move. (Score: 0.4972)\n",
            "Ankahi Kahaniya. Dramas, Independent Movies, International Movies. As big city life buzzes around them, lonely souls discover surprising sources of connection and companionship in three tales of love, loss and longing. (Score: 0.4954)\n",
            "\n",
            "\n",
            "======================\n",
            "\n",
            "\n",
            "Query: True crime tv show where the detective turns out to be the villain\n",
            "\n",
            "Top 5 most similar sentences in corpus:\n",
            "Ganglands. Crime TV Shows, International TV Shows, TV Action & Adventure. To protect his family from a powerful drug lord, skilled thief Mehdi and his expert team of robbers are pulled into a violent and deadly turf war. (Score: 0.7521)\n",
            "Lucifer. Crime TV Shows, TV Comedies, TV Dramas. Bored with being the Lord of Hell, the devil relocates to Los Angeles, where he opens a nightclub and forms a connection with a homicide detective. (Score: 0.7266)\n",
            "The Stronghold. Action & Adventure, Dramas, International Movies. Tired of the small-time grind, three Marseille cops get a chance to bust a major drug network. But lines blur when a key informant makes a big ask. (Score: 0.7186)\n",
            "Paranoia. Thrillers. Blackmailed by his company's CEO, a low-level employee finds himself forced to spy on the boss's rival and former mentor. (Score: 0.7115)\n",
            "Dharmakshetra. International TV Shows, TV Dramas, TV Sci-Fi & Fantasy. After the ancient Great War, the god Chitragupta oversees a trial to determine who were the battle's true heroes and villains. (Score: 0.6750)\n"
          ]
        }
      ],
      "source": [
        "# Find the closest 5 sentences of the corpus for each query sentence based on cosine similarity\n",
        "top_k = min(5, len(show_information))\n",
        "for query in search_examples:\n",
        "    query_embedding = model.encode(query, convert_to_tensor=True)\n",
        "\n",
        "    # We use cosine-similarity and torch.topk to find the highest 5 scores\n",
        "    cos_scores = util.cos_sim(query_embedding, corpus_embeddings)[0]\n",
        "    top_results = torch.topk(cos_scores, k=top_k)\n",
        "\n",
        "    print(\"\\n\\n======================\\n\\n\")\n",
        "    print(\"Query:\", query)\n",
        "    print(\"\\nTop 5 most similar sentences in corpus:\")\n",
        "\n",
        "    for score, idx in zip(top_results[0], top_results[1]):\n",
        "        print(show_information[idx], \"(Score: {:.4f})\".format(score))\n",
        "\n",
        "    \"\"\"\n",
        "    # Alternatively, we can also use util.semantic_search to perform cosine similarty + topk\n",
        "    hits = util.semantic_search(query_embedding, corpus_embeddings, top_k=5)\n",
        "    hits = hits[0]      #Get the hits for the first query\n",
        "    for hit in hits:\n",
        "        print(corpus[hit['corpus_id']], \"(Score: {:.4f})\".format(hit['score']))\n",
        "    \"\"\""
      ]
    },
    {
      "cell_type": "code",
      "execution_count": null,
      "metadata": {
        "id": "B8wOQFaourq_"
      },
      "outputs": [],
      "source": [
        "def query_corpus(query):\n",
        "  results = []\n",
        "  query_embedding = model.encode(query, convert_to_tensor=True)\n",
        "  cos_scores = util.cos_sim(query_embedding, corpus_embeddings)[0]\n",
        "  top_results = torch.topk(cos_scores, k=top_k)\n",
        "\n",
        "  for score, idx in zip(top_results[0], top_results[1]):\n",
        "    results.append(\n",
        "        (show_information[idx], \n",
        "         score))\n",
        "    output = results[0][0]\n",
        "    score = float(results[0][1].numpy())\n",
        "  return output, score"
      ]
    },
    {
      "cell_type": "code",
      "execution_count": null,
      "metadata": {
        "colab": {
          "base_uri": "https://localhost:8080/"
        },
        "id": "yTDDdWahuzIX",
        "outputId": "25e5f25b-1bfd-4514-9751-2d6a758a0553"
      },
      "outputs": [
        {
          "output_type": "execute_result",
          "data": {
            "text/plain": [
              "('Naruto the Movie 3: Guardians of the Crescent Moon Kingdom. Action & Adventure, Anime Features, International Movies. Exuberant ninja Naruto teams up with his pals Sakura and Kakashi to escort Prince Michiru and his son, Hikaru, to the Crescent Moon kingdom.',\n",
              " 0.4268164038658142)"
            ]
          },
          "metadata": {},
          "execution_count": 35
        }
      ],
      "source": [
        "query_corpus('Action movie with batman')"
      ]
    },
    {
      "cell_type": "code",
      "source": [
        "# Converting the information to a list\n",
        "title = df_netflix['title'].values.tolist()\n",
        "\n",
        "# Converting the information to a list\n",
        "show_type = df_netflix['type'].values.tolist()\n",
        "\n",
        "# Converting the information to a list\n",
        "genre = df_netflix['listed_in'].values.tolist()\n",
        "\n",
        "# Converting the information to a list\n",
        "description = df_netflix['description'].values.tolist()"
      ],
      "metadata": {
        "id": "2KkSJfCfM_vW"
      },
      "execution_count": null,
      "outputs": []
    },
    {
      "cell_type": "code",
      "source": [
        "def query_corpus(query):\n",
        "  results = []\n",
        "  query_embedding = model.encode(query, convert_to_tensor=True)\n",
        "  cos_scores = util.cos_sim(query_embedding, corpus_embeddings)[0]\n",
        "  top_results = torch.topk(cos_scores, k=top_k)\n",
        "  for score, idx in zip(top_results[0], top_results[1]):\n",
        "    results.append((\n",
        "        title[idx], \n",
        "        score))\n",
        "    output = results[0][0]\n",
        "    score = float(results[0][1].numpy())\n",
        "  return output, score"
      ],
      "metadata": {
        "id": "eDSb8iVYMe1L"
      },
      "execution_count": null,
      "outputs": []
    },
    {
      "cell_type": "code",
      "source": [
        "query_corpus('Action movie with batman')"
      ],
      "metadata": {
        "colab": {
          "base_uri": "https://localhost:8080/"
        },
        "id": "bsOiAZ5UMndN",
        "outputId": "fbb434de-f9a1-44c4-b542-2ba52c493ee1"
      },
      "execution_count": null,
      "outputs": [
        {
          "output_type": "execute_result",
          "data": {
            "text/plain": [
              "('Naruto the Movie 3: Guardians of the Crescent Moon Kingdom',\n",
              " 0.4268164038658142)"
            ]
          },
          "metadata": {},
          "execution_count": 108
        }
      ]
    },
    {
      "cell_type": "code",
      "execution_count": null,
      "metadata": {
        "colab": {
          "base_uri": "https://localhost:8080/",
          "height": 614
        },
        "id": "AlLYZRvAu0li",
        "outputId": "b3c1d91a-7631-41ba-fcf2-2998a684eadb"
      },
      "outputs": [
        {
          "output_type": "stream",
          "name": "stdout",
          "text": [
            "Colab notebook detected. To show errors in colab notebook, set debug=True in launch()\n",
            "Note: opening Chrome Inspector may crash demo inside Colab notebooks.\n",
            "\n",
            "To create a public link, set `share=True` in `launch()`.\n"
          ]
        },
        {
          "output_type": "display_data",
          "data": {
            "text/plain": [
              "<IPython.core.display.Javascript object>"
            ],
            "application/javascript": [
              "(async (port, path, width, height, cache, element) => {\n",
              "                        if (!google.colab.kernel.accessAllowed && !cache) {\n",
              "                            return;\n",
              "                        }\n",
              "                        element.appendChild(document.createTextNode(''));\n",
              "                        const url = await google.colab.kernel.proxyPort(port, {cache});\n",
              "\n",
              "                        const external_link = document.createElement('div');\n",
              "                        external_link.innerHTML = `\n",
              "                            <div style=\"font-family: monospace; margin-bottom: 0.5rem\">\n",
              "                                Running on <a href=${new URL(path, url).toString()} target=\"_blank\">\n",
              "                                    https://localhost:${port}${path}\n",
              "                                </a>\n",
              "                            </div>\n",
              "                        `;\n",
              "                        element.appendChild(external_link);\n",
              "\n",
              "                        const iframe = document.createElement('iframe');\n",
              "                        iframe.src = new URL(path, url).toString();\n",
              "                        iframe.height = height;\n",
              "                        iframe.allow = \"autoplay; camera; microphone; clipboard-read; clipboard-write;\"\n",
              "                        iframe.width = width;\n",
              "                        iframe.style.border = 0;\n",
              "                        element.appendChild(iframe);\n",
              "                    })(7863, \"/\", \"100%\", 500, false, window.element)"
            ]
          },
          "metadata": {}
        },
        {
          "output_type": "execute_result",
          "data": {
            "text/plain": []
          },
          "metadata": {},
          "execution_count": 52
        }
      ],
      "source": [
        "import gradio as gr\n",
        "\n",
        "gr.Interface(fn=query_corpus, inputs=[\"text\"], outputs=[\"text\", \"label\"]).launch()"
      ]
    },
    {
      "cell_type": "code",
      "source": [],
      "metadata": {
        "id": "Qcs2g3XENV5M"
      },
      "execution_count": null,
      "outputs": []
    }
  ],
  "metadata": {
    "colab": {
      "provenance": [],
      "include_colab_link": true
    },
    "kernelspec": {
      "display_name": "Python 3",
      "name": "python3"
    },
    "language_info": {
      "name": "python"
    }
  },
  "nbformat": 4,
  "nbformat_minor": 0
}